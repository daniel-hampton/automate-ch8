{
 "cells": [
  {
   "cell_type": "code",
   "execution_count": 6,
   "metadata": {
    "collapsed": false
   },
   "outputs": [
    {
     "name": "stdout",
     "output_type": "stream",
     "text": [
      "3.5.2 |Anaconda custom (64-bit)| (default, Jul  5 2016, 11:41:13) [MSC v.1900 64 bit (AMD64)]\n"
     ]
    }
   ],
   "source": [
    "import sys\n",
    "print(sys.version)"
   ]
  },
  {
   "cell_type": "code",
   "execution_count": 8,
   "metadata": {
    "collapsed": false
   },
   "outputs": [
    {
     "data": {
      "text/plain": [
       "'5.1.0'"
      ]
     },
     "execution_count": 8,
     "metadata": {},
     "output_type": "execute_result"
    }
   ],
   "source": [
    "import IPython\n",
    "IPython.__version__"
   ]
  },
  {
   "cell_type": "code",
   "execution_count": 11,
   "metadata": {
    "collapsed": false
   },
   "outputs": [
    {
     "data": {
      "text/plain": [
       "'usr\\\\bin\\\\spam'"
      ]
     },
     "execution_count": 11,
     "metadata": {},
     "output_type": "execute_result"
    }
   ],
   "source": [
    "import os\n",
    "os.path.join('usr', 'bin', 'spam')"
   ]
  },
  {
   "cell_type": "code",
   "execution_count": 12,
   "metadata": {
    "collapsed": false
   },
   "outputs": [
    {
     "name": "stdout",
     "output_type": "stream",
     "text": [
      "C:\\Users\\asweigart\\accounts.txt\n",
      "C:\\Users\\asweigart\\details.csv\n",
      "C:\\Users\\asweigart\\invite.docx\n"
     ]
    }
   ],
   "source": [
    "myFiles = ['accounts.txt', 'details.csv', 'invite.docx']\n",
    "for filename in myFiles:\n",
    "    print(os.path.join('C:\\\\Users\\\\asweigart', filename))"
   ]
  },
  {
   "cell_type": "code",
   "execution_count": 13,
   "metadata": {
    "collapsed": false
   },
   "outputs": [
    {
     "data": {
      "text/plain": [
       "'C:\\\\Users\\\\HOME4400\\\\PycharmProjects\\\\AutomateTheBoringStuff\\\\Chapter8_ReadingAndWritingFiles'"
      ]
     },
     "execution_count": 13,
     "metadata": {},
     "output_type": "execute_result"
    }
   ],
   "source": [
    "os.getcwd()"
   ]
  },
  {
   "cell_type": "code",
   "execution_count": 14,
   "metadata": {
    "collapsed": false
   },
   "outputs": [
    {
     "data": {
      "text/plain": [
       "'C:\\\\Windows\\\\System32'"
      ]
     },
     "execution_count": 14,
     "metadata": {},
     "output_type": "execute_result"
    }
   ],
   "source": [
    "os.chdir('C:\\\\Windows\\\\System32')\n",
    "os.getcwd()"
   ]
  },
  {
   "cell_type": "code",
   "execution_count": 15,
   "metadata": {
    "collapsed": false
   },
   "outputs": [
    {
     "ename": "FileNotFoundError",
     "evalue": "[WinError 2] The system cannot find the file specified: 'C:\\\\ThisFolderDoesNotExist'",
     "output_type": "error",
     "traceback": [
      "\u001b[0;31m---------------------------------------------------------------------------\u001b[0m",
      "\u001b[0;31mFileNotFoundError\u001b[0m                         Traceback (most recent call last)",
      "\u001b[0;32m<ipython-input-15-349657da223d>\u001b[0m in \u001b[0;36m<module>\u001b[0;34m()\u001b[0m\n\u001b[0;32m----> 1\u001b[0;31m \u001b[0mos\u001b[0m\u001b[1;33m.\u001b[0m\u001b[0mchdir\u001b[0m\u001b[1;33m(\u001b[0m\u001b[1;34m'C:\\\\ThisFolderDoesNotExist'\u001b[0m\u001b[1;33m)\u001b[0m\u001b[1;33m\u001b[0m\u001b[0m\n\u001b[0m",
      "\u001b[0;31mFileNotFoundError\u001b[0m: [WinError 2] The system cannot find the file specified: 'C:\\\\ThisFolderDoesNotExist'"
     ]
    }
   ],
   "source": [
    "os.chdir('C:\\\\ThisFolderDoesNotExist')"
   ]
  },
  {
   "cell_type": "code",
   "execution_count": 18,
   "metadata": {
    "collapsed": false
   },
   "outputs": [],
   "source": [
    "os.makedirs('C://Users//HOME4400/PycharmProjects/AutomateTheBoringStuff/Chapter8_ReadingAndWritingFiles/delicious/walnut/waffles')"
   ]
  },
  {
   "cell_type": "code",
   "execution_count": 19,
   "metadata": {
    "collapsed": false
   },
   "outputs": [
    {
     "ename": "FileNotFoundError",
     "evalue": "[WinError 2] The system cannot find the file specified: '~'",
     "output_type": "error",
     "traceback": [
      "\u001b[0;31m---------------------------------------------------------------------------\u001b[0m",
      "\u001b[0;31mFileNotFoundError\u001b[0m                         Traceback (most recent call last)",
      "\u001b[0;32m<ipython-input-19-27462b8e19a2>\u001b[0m in \u001b[0;36m<module>\u001b[0;34m()\u001b[0m\n\u001b[0;32m----> 1\u001b[0;31m \u001b[0mos\u001b[0m\u001b[1;33m.\u001b[0m\u001b[0mchdir\u001b[0m\u001b[1;33m(\u001b[0m\u001b[1;34m'~'\u001b[0m\u001b[1;33m)\u001b[0m\u001b[1;33m\u001b[0m\u001b[0m\n\u001b[0m",
      "\u001b[0;31mFileNotFoundError\u001b[0m: [WinError 2] The system cannot find the file specified: '~'"
     ]
    }
   ],
   "source": [
    "os.chdir('~')"
   ]
  },
  {
   "cell_type": "code",
   "execution_count": 25,
   "metadata": {
    "collapsed": false
   },
   "outputs": [
    {
     "data": {
      "text/plain": [
       "'C:\\\\Users\\\\HOME4400\\\\PycharmProjects\\\\AutomateTheBoringStuff\\\\Chapter8_ReadingAndWritingFiles'"
      ]
     },
     "execution_count": 25,
     "metadata": {},
     "output_type": "execute_result"
    }
   ],
   "source": [
    "os.chdir('C:/Users/HOME4400/PycharmProjects/AutomateTheBoringStuff/Chapter8_ReadingAndWritingFiles')\n",
    "os.getcwd()"
   ]
  },
  {
   "cell_type": "code",
   "execution_count": 26,
   "metadata": {
    "collapsed": false
   },
   "outputs": [
    {
     "data": {
      "text/plain": [
       "'C:\\\\Users\\\\HOME4400\\\\PycharmProjects\\\\AutomateTheBoringStuff\\\\Chapter8_ReadingAndWritingFiles'"
      ]
     },
     "execution_count": 26,
     "metadata": {},
     "output_type": "execute_result"
    }
   ],
   "source": [
    "os.path.abspath('.')"
   ]
  },
  {
   "cell_type": "code",
   "execution_count": 27,
   "metadata": {
    "collapsed": false
   },
   "outputs": [
    {
     "data": {
      "text/plain": [
       "'C:\\\\Users\\\\HOME4400\\\\PycharmProjects\\\\AutomateTheBoringStuff\\\\Chapter8_ReadingAndWritingFiles\\\\delicious'"
      ]
     },
     "execution_count": 27,
     "metadata": {},
     "output_type": "execute_result"
    }
   ],
   "source": [
    "os.path.abspath('./delicious/')"
   ]
  },
  {
   "cell_type": "code",
   "execution_count": 28,
   "metadata": {
    "collapsed": false
   },
   "outputs": [
    {
     "data": {
      "text/plain": [
       "False"
      ]
     },
     "execution_count": 28,
     "metadata": {},
     "output_type": "execute_result"
    }
   ],
   "source": [
    "os.path.isabs('.')"
   ]
  },
  {
   "cell_type": "code",
   "execution_count": 29,
   "metadata": {
    "collapsed": false
   },
   "outputs": [
    {
     "data": {
      "text/plain": [
       "True"
      ]
     },
     "execution_count": 29,
     "metadata": {},
     "output_type": "execute_result"
    }
   ],
   "source": [
    "os.path.isabs(os.path.abspath('.'))"
   ]
  },
  {
   "cell_type": "code",
   "execution_count": 31,
   "metadata": {
    "collapsed": false
   },
   "outputs": [
    {
     "data": {
      "text/plain": [
       "'Windows'"
      ]
     },
     "execution_count": 31,
     "metadata": {},
     "output_type": "execute_result"
    }
   ],
   "source": [
    "os.path.relpath('C:\\\\Windows', 'C:\\\\')"
   ]
  },
  {
   "cell_type": "code",
   "execution_count": 32,
   "metadata": {
    "collapsed": false
   },
   "outputs": [
    {
     "data": {
      "text/plain": [
       "'..\\\\..\\\\Windows'"
      ]
     },
     "execution_count": 32,
     "metadata": {},
     "output_type": "execute_result"
    }
   ],
   "source": [
    "os.path.relpath('C:\\\\Windows', 'C:\\\\Users\\\\HOME4400')"
   ]
  },
  {
   "cell_type": "code",
   "execution_count": 33,
   "metadata": {
    "collapsed": false
   },
   "outputs": [
    {
     "data": {
      "text/plain": [
       "'C:\\\\Users\\\\HOME4400\\\\PycharmProjects\\\\AutomateTheBoringStuff\\\\Chapter8_ReadingAndWritingFiles'"
      ]
     },
     "execution_count": 33,
     "metadata": {},
     "output_type": "execute_result"
    }
   ],
   "source": [
    "os.getcwd()"
   ]
  },
  {
   "cell_type": "code",
   "execution_count": 34,
   "metadata": {
    "collapsed": false
   },
   "outputs": [
    {
     "data": {
      "text/plain": [
       "'calc.exe'"
      ]
     },
     "execution_count": 34,
     "metadata": {},
     "output_type": "execute_result"
    }
   ],
   "source": [
    "path = 'C:/Windows/System32/calc.exe'\n",
    "os.path.basename(path)"
   ]
  },
  {
   "cell_type": "code",
   "execution_count": 35,
   "metadata": {
    "collapsed": false
   },
   "outputs": [
    {
     "data": {
      "text/plain": [
       "'C:/Windows/System32'"
      ]
     },
     "execution_count": 35,
     "metadata": {},
     "output_type": "execute_result"
    }
   ],
   "source": [
    "os.path.dirname(path)"
   ]
  },
  {
   "cell_type": "code",
   "execution_count": 37,
   "metadata": {
    "collapsed": false
   },
   "outputs": [
    {
     "data": {
      "text/plain": [
       "('C:/Windows/System32', 'calc.exe')"
      ]
     },
     "execution_count": 37,
     "metadata": {},
     "output_type": "execute_result"
    }
   ],
   "source": [
    "calcFilePath = 'C:/Windows/System32/calc.exe'\n",
    "os.path.split(calcFilePath)"
   ]
  },
  {
   "cell_type": "code",
   "execution_count": 38,
   "metadata": {
    "collapsed": false
   },
   "outputs": [
    {
     "data": {
      "text/plain": [
       "('C:/Windows/System32', 'calc.exe')"
      ]
     },
     "execution_count": 38,
     "metadata": {},
     "output_type": "execute_result"
    }
   ],
   "source": [
    "(os.path.dirname(calcFilePath), os.path.basename(calcFilePath))"
   ]
  },
  {
   "cell_type": "code",
   "execution_count": 39,
   "metadata": {
    "collapsed": false
   },
   "outputs": [
    {
     "data": {
      "text/plain": [
       "['C:/Windows/System32/calc.exe']"
      ]
     },
     "execution_count": 39,
     "metadata": {},
     "output_type": "execute_result"
    }
   ],
   "source": [
    "calcFilePath.split(os.path.sep)"
   ]
  },
  {
   "cell_type": "code",
   "execution_count": 40,
   "metadata": {
    "collapsed": false
   },
   "outputs": [
    {
     "data": {
      "text/plain": [
       "'C:\\\\Windows\\\\System32\\\\calc.exe'"
      ]
     },
     "execution_count": 40,
     "metadata": {},
     "output_type": "execute_result"
    }
   ],
   "source": [
    "os.path.abspath(calcFilePath)"
   ]
  },
  {
   "cell_type": "code",
   "execution_count": 41,
   "metadata": {
    "collapsed": true
   },
   "outputs": [],
   "source": [
    "calcFilePath = os.path.abspath(calcFilePath)"
   ]
  },
  {
   "cell_type": "code",
   "execution_count": 42,
   "metadata": {
    "collapsed": false
   },
   "outputs": [
    {
     "data": {
      "text/plain": [
       "['C:', 'Windows', 'System32', 'calc.exe']"
      ]
     },
     "execution_count": 42,
     "metadata": {},
     "output_type": "execute_result"
    }
   ],
   "source": [
    "calcFilePath.split(os.path.sep)"
   ]
  },
  {
   "cell_type": "code",
   "execution_count": 43,
   "metadata": {
    "collapsed": false
   },
   "outputs": [
    {
     "data": {
      "text/plain": [
       "32256"
      ]
     },
     "execution_count": 43,
     "metadata": {},
     "output_type": "execute_result"
    }
   ],
   "source": [
    "os.path.getsize('C:\\\\Windows\\\\System32\\\\calc.exe')"
   ]
  },
  {
   "cell_type": "code",
   "execution_count": 44,
   "metadata": {
    "collapsed": false
   },
   "outputs": [
    {
     "data": {
      "text/plain": [
       "['0409',\n",
       " '1033',\n",
       " '7B296FB0-376B-497e-B012-9C450E1B7327-5P-0.C7483456-A289-439d-8115-601632D005A0',\n",
       " '7B296FB0-376B-497e-B012-9C450E1B7327-5P-1.C7483456-A289-439d-8115-601632D005A0',\n",
       " '@AudioToastIcon.png',\n",
       " '@BackgroundAccessToastIcon.png',\n",
       " '@edptoastimage.png',\n",
       " '@EnrollmentToastIcon.png',\n",
       " '@language_notification_icon.png',\n",
       " '@optionalfeatures.png',\n",
       " '@VpnToastIcon.png',\n",
       " '@WiFiNotificationIcon.png',\n",
       " '@WindowsHelloFaceToastIcon.png',\n",
       " 'aadauthhelper.dll',\n",
       " 'aadcloudap.dll',\n",
       " 'aadtb.dll',\n",
       " 'AboveLockAppHost.dll',\n",
       " 'accessibilitycpl.dll',\n",
       " 'accountaccessor.dll',\n",
       " 'AccountsRt.dll',\n",
       " 'ACCTRES.dll',\n",
       " 'acledit.dll',\n",
       " 'aclui.dll',\n",
       " 'acmigration.dll',\n",
       " 'ACPBackgroundManagerPolicy.dll',\n",
       " 'acppage.dll',\n",
       " 'acproxy.dll',\n",
       " 'ActionCenter.dll',\n",
       " 'ActionCenterCPL.dll',\n",
       " 'ActionQueue.dll',\n",
       " 'ActivationClient.dll',\n",
       " 'ActivationManager.dll',\n",
       " 'ActivationVdev.dll',\n",
       " 'activeds.dll',\n",
       " 'activeds.tlb',\n",
       " 'ActiveSyncCsp.dll',\n",
       " 'ActiveSyncProvider.dll',\n",
       " 'actxprxy.dll',\n",
       " 'acu.exe',\n",
       " 'adalsql.dll',\n",
       " 'AddressParser.dll',\n",
       " 'adhapi.dll',\n",
       " 'adhsvc.dll',\n",
       " 'AdmTmpl.dll',\n",
       " 'adprovider.dll',\n",
       " 'adrclient.dll',\n",
       " 'adsldp.dll',\n",
       " 'adsldpc.dll',\n",
       " 'adsmsext.dll',\n",
       " 'adsnt.dll',\n",
       " 'adtschema.dll',\n",
       " 'AdvancedInstallers',\n",
       " 'advapi32.dll',\n",
       " 'advapi32res.dll',\n",
       " 'advpack.dll',\n",
       " 'aeevts.dll',\n",
       " 'aeinv.dll',\n",
       " 'aepic.dll',\n",
       " 'AERTAC64.dll',\n",
       " 'AERTAR64.dll',\n",
       " 'AgentService.exe',\n",
       " 'aitstatic.exe',\n",
       " 'AJRouter.dll',\n",
       " 'alg.exe',\n",
       " 'AllJoynDiscoveryPlugin.dll',\n",
       " 'amcompat.tlb',\n",
       " 'amde31a.dat',\n",
       " 'amde34a.dat',\n",
       " 'amdgfxinfo64.dll',\n",
       " 'amdhdl64.dll',\n",
       " 'amdicdxx.dat',\n",
       " 'AMDKernelEvents.man',\n",
       " 'amdlvr64.dll',\n",
       " 'amdmantle64.dll',\n",
       " 'amdmiracast.dll',\n",
       " 'amdmmcl6.dll',\n",
       " 'amdocl12cl64.dll',\n",
       " 'amdocl64.dll',\n",
       " 'amdocl_as64.exe',\n",
       " 'amdocl_ld64.exe',\n",
       " 'amdpcom64.dll',\n",
       " 'amdxc64.dll',\n",
       " 'amsi.dll',\n",
       " 'amsiproxy.dll',\n",
       " 'amstream.dll',\n",
       " 'apds.dll',\n",
       " 'APHostClient.dll',\n",
       " 'APHostRes.dll',\n",
       " 'APHostService.dll',\n",
       " 'apisetschema.dll',\n",
       " 'ApnDatabase.xml',\n",
       " 'AppCapture.dll',\n",
       " 'AppContracts.dll',\n",
       " 'AppExtension.dll',\n",
       " 'apphelp.dll',\n",
       " 'Apphlpdm.dll',\n",
       " 'AppHostRegistrationVerifier.exe',\n",
       " 'appidapi.dll',\n",
       " 'appidcertstorecheck.exe',\n",
       " 'appidpolicyconverter.exe',\n",
       " 'AppIdPolicyEngineApi.dll',\n",
       " 'appidsvc.dll',\n",
       " 'appidtel.exe',\n",
       " 'appinfo.dll',\n",
       " 'ApplicationFrame.dll',\n",
       " 'ApplicationFrameHost.exe',\n",
       " 'AppLocker',\n",
       " 'AppLockerCSP.dll',\n",
       " 'ApplySettingsTemplateCatalog.exe',\n",
       " 'AppManagementConfiguration.dll',\n",
       " 'appmgmt',\n",
       " 'appmgmts.dll',\n",
       " 'appmgr.dll',\n",
       " 'AppointmentActivation.dll',\n",
       " 'AppointmentApis.dll',\n",
       " 'appraiser',\n",
       " 'appraiser.dll',\n",
       " 'AppReadiness.dll',\n",
       " 'apprepapi.dll',\n",
       " 'apprepsync.dll',\n",
       " 'ApproveChildRequest.exe',\n",
       " 'appsruprov.dll',\n",
       " 'AppVCatalog.dll',\n",
       " 'AppVClient.exe',\n",
       " 'AppvClientEventLog.dll',\n",
       " 'AppVClientPS.dll',\n",
       " 'AppVDllSurrogate.exe',\n",
       " 'AppVEntStreamingManager.dll',\n",
       " 'AppVEntSubsystemController.dll',\n",
       " 'AppVEntSubsystems64.dll',\n",
       " 'AppVEntVirtualization.dll',\n",
       " 'appvetwclientres.dll',\n",
       " 'appvetwsharedperformance.dll',\n",
       " 'appvetwstreamingux.dll',\n",
       " 'AppVFileSystemMetadata.dll',\n",
       " 'AppVIntegration.dll',\n",
       " 'AppVManifest.dll',\n",
       " 'AppVNice.exe',\n",
       " 'AppVOrchestration.dll',\n",
       " 'AppVPolicy.dll',\n",
       " 'AppVPublishing.dll',\n",
       " 'AppVReporting.dll',\n",
       " 'AppVScripting.dll',\n",
       " 'AppVSentinel.dll',\n",
       " 'AppVShNotify.exe',\n",
       " 'AppVStreamingUX.dll',\n",
       " 'AppVStreamingUX.exe',\n",
       " 'AppVStreamingUX.exe.config',\n",
       " 'AppVStreamMap.dll',\n",
       " 'AppVTerminator.dll',\n",
       " 'appwiz.cpl',\n",
       " 'AppxAllUserStore.dll',\n",
       " 'AppXApplicabilityBlob.dll',\n",
       " 'AppxApplicabilityEngine.dll',\n",
       " 'AppXDeploymentClient.dll',\n",
       " 'AppXDeploymentExtensions.desktop.dll',\n",
       " 'AppXDeploymentExtensions.onecore.dll',\n",
       " 'AppXDeploymentServer.dll',\n",
       " 'AppxPackaging.dll',\n",
       " 'AppxProvisioning.xml',\n",
       " 'AppxSip.dll',\n",
       " 'AppxStreamingDataSourcePS.dll',\n",
       " 'AppxSysprep.dll',\n",
       " 'ar-SA',\n",
       " 'ARP.EXE',\n",
       " 'asferror.dll',\n",
       " 'aspnet_counters.dll',\n",
       " 'AssignedAccessCsp.dll',\n",
       " 'asycfilt.dll',\n",
       " 'at.exe',\n",
       " 'AtBroker.exe',\n",
       " 'atiadlxx.dll',\n",
       " 'atiapfxx.blb',\n",
       " 'atiapfxx.exe',\n",
       " 'aticalcl64.dll',\n",
       " 'aticaldd64.dll',\n",
       " 'aticalrt64.dll',\n",
       " 'aticfx64.dll',\n",
       " 'atidemgy.dll',\n",
       " 'atidxx64.dll',\n",
       " 'atieah64.exe',\n",
       " 'atieclxx.exe',\n",
       " 'atiesrxx.exe',\n",
       " 'atig6pxx.dll',\n",
       " 'atig6txx.dll',\n",
       " 'atiglpxx.dll',\n",
       " 'atiicdxx.dat',\n",
       " 'atimpc64.dll',\n",
       " 'atimuixx.dll',\n",
       " 'atio6axx.dll',\n",
       " 'ATIODCLI.exe',\n",
       " 'ATIODE.exe',\n",
       " 'atitmm64.dll',\n",
       " 'atiu9p64.dll',\n",
       " 'atiumd64.dll',\n",
       " 'atiumd6a.cap',\n",
       " 'atiumd6a.dll',\n",
       " 'atiuxp64.dll',\n",
       " 'ativce02.dat',\n",
       " 'ativce03.dat',\n",
       " 'ativvaxy_cik.dat',\n",
       " 'ativvaxy_cik_nd.dat',\n",
       " 'ativvaxy_cz_nd.dat',\n",
       " 'ativvaxy_el.dat',\n",
       " 'ativvaxy_el_nd.dat',\n",
       " 'ativvaxy_FJ.dat',\n",
       " 'ativvaxy_FJ_nd.dat',\n",
       " 'ativvaxy_stn_nd.dat',\n",
       " 'ativvaxy_vi.dat',\n",
       " 'ativvaxy_vi_nd.dat',\n",
       " 'ativvsva.dat',\n",
       " 'ativvsvl.dat',\n",
       " 'atl.dll',\n",
       " 'atl100.dll',\n",
       " 'atl110.dll',\n",
       " 'atlthunk.dll',\n",
       " 'atmfd.dll',\n",
       " 'atmlib.dll',\n",
       " 'attrib.exe',\n",
       " 'audiodg.exe',\n",
       " 'AudioEndpointBuilder.dll',\n",
       " 'AudioEng.dll',\n",
       " 'AUDIOKSE.dll',\n",
       " 'AudioSes.dll',\n",
       " 'audiosrv.dll',\n",
       " 'AudioSrvPolicyManager.dll',\n",
       " 'auditcse.dll',\n",
       " 'AuditNativeSnapIn.dll',\n",
       " 'auditpol.exe',\n",
       " 'auditpolcore.dll',\n",
       " 'AuditPolicyGPInterop.dll',\n",
       " 'auditpolmsg.dll',\n",
       " 'AuthBroker.dll',\n",
       " 'AuthBrokerUI.dll',\n",
       " 'AuthExt.dll',\n",
       " 'authfwcfg.dll',\n",
       " 'AuthFWGP.dll',\n",
       " 'AuthFWSnapin.dll',\n",
       " 'AuthFWWizFwk.dll',\n",
       " 'AuthHost.exe',\n",
       " 'AuthHostProxy.dll',\n",
       " 'authui.dll',\n",
       " 'authz.dll',\n",
       " 'autochk.exe',\n",
       " 'autoconv.exe',\n",
       " 'autofmt.exe',\n",
       " 'autoplay.dll',\n",
       " 'avicap32.dll',\n",
       " 'avifil32.dll',\n",
       " 'avrt.dll',\n",
       " 'AxInstSv.dll',\n",
       " 'AxInstUI.exe',\n",
       " 'azman.msc',\n",
       " 'azroles.dll',\n",
       " 'azroleui.dll',\n",
       " 'AzSqlExt.dll',\n",
       " 'AzureSettingSyncProvider.dll',\n",
       " 'baaupdate.exe',\n",
       " 'BackgroundMediaPolicy.dll',\n",
       " 'backgroundTaskHost.exe',\n",
       " 'BackgroundTransferHost.exe',\n",
       " 'BarcodeProvisioningPlugin.dll',\n",
       " 'basecsp.dll',\n",
       " 'basesrv.dll',\n",
       " 'batmeter.dll',\n",
       " 'bcastdvr.exe',\n",
       " 'bcastdvr.proxy.dll',\n",
       " 'BcastDVRHelper.dll',\n",
       " 'bcd.dll',\n",
       " 'bcdboot.exe',\n",
       " 'bcdedit.exe',\n",
       " 'bcdprov.dll',\n",
       " 'bcdsrv.dll',\n",
       " 'BCP47Langs.dll',\n",
       " 'bcrypt.dll',\n",
       " 'bcryptprimitives.dll',\n",
       " 'bdaplgin.ax',\n",
       " 'bdechangepin.exe',\n",
       " 'BdeHdCfg.exe',\n",
       " 'BdeHdCfgLib.dll',\n",
       " 'bderepair.dll',\n",
       " 'bdesvc.dll',\n",
       " 'BdeSysprep.dll',\n",
       " 'bdeui.dll',\n",
       " 'BdeUISrv.exe',\n",
       " 'bdeunlock.exe',\n",
       " 'BestPractices',\n",
       " 'BFE.DLL',\n",
       " 'bg-BG',\n",
       " 'bi.dll',\n",
       " 'bidispl.dll',\n",
       " 'BingASDS.dll',\n",
       " 'BingMaps.dll',\n",
       " 'BingOnlineServices.dll',\n",
       " 'BioCredProv.dll',\n",
       " 'BioIso.exe',\n",
       " 'bisrv.dll',\n",
       " 'BitLockerDeviceEncryption.exe',\n",
       " 'BitLockerWizard.exe',\n",
       " 'BitLockerWizardElev.exe',\n",
       " 'bitsadmin.exe',\n",
       " 'bitsigd.dll',\n",
       " 'bitsperf.dll',\n",
       " 'BitsProxy.dll',\n",
       " 'biwinrt.dll',\n",
       " 'BlbEvents.dll',\n",
       " 'blbres.dll',\n",
       " 'blb_ps.dll',\n",
       " 'BluetoothApis.dll',\n",
       " 'BluetoothDesktopHandlers.dll',\n",
       " 'Boot',\n",
       " 'boot.sdi',\n",
       " 'bootcfg.exe',\n",
       " 'bootim.exe',\n",
       " 'BootMenuUX.dll',\n",
       " 'bootsect.exe',\n",
       " 'bootstr.dll',\n",
       " 'bootux.dll',\n",
       " 'BOOTVID.DLL',\n",
       " 'bopomofo.uce',\n",
       " 'bridgeres.dll',\n",
       " 'bridgeunattend.exe',\n",
       " 'BrokerLib.dll',\n",
       " 'browcli.dll',\n",
       " 'browser.dll',\n",
       " 'browserbroker.dll',\n",
       " 'BrowserSettingSync.dll',\n",
       " 'browser_broker.exe',\n",
       " 'browseui.dll',\n",
       " 'bthci.dll',\n",
       " 'BthHFSrv.dll',\n",
       " 'BthMtpContextHandler.dll',\n",
       " 'bthpanapi.dll',\n",
       " 'BthpanContextHandler.dll',\n",
       " 'Bthprops',\n",
       " 'bthprops.cpl',\n",
       " 'BthRadioMedia.dll',\n",
       " 'bthserv.dll',\n",
       " 'BthTelemetry.dll',\n",
       " 'bthudtask.exe',\n",
       " 'btpanui.dll',\n",
       " 'Bubbles.scr',\n",
       " 'BWContextHandler.dll',\n",
       " 'ByteCodeGenerator.exe',\n",
       " 'cabapi.dll',\n",
       " 'cabinet.dll',\n",
       " 'cabview.dll',\n",
       " 'cacls.exe',\n",
       " 'calc.exe',\n",
       " 'CallButtons.dll',\n",
       " 'CallButtons.ProxyStub.dll',\n",
       " 'CallHistoryClient.dll',\n",
       " 'CameraCaptureUI.dll',\n",
       " 'CameraSettingsUIHost.exe',\n",
       " 'capauthz.dll',\n",
       " 'capiprovider.dll',\n",
       " 'capisp.dll',\n",
       " 'CastingShellExt.dll',\n",
       " 'CastLaunch.dll',\n",
       " 'CastSrv.exe',\n",
       " 'CatRoot',\n",
       " 'catroot2',\n",
       " 'catsrv.dll',\n",
       " 'catsrvps.dll',\n",
       " 'catsrvut.dll',\n",
       " 'CbtBackgroundManagerPolicy.dll',\n",
       " 'cca.dll',\n",
       " 'CCG.exe',\n",
       " 'CCGLaunchPad.dll',\n",
       " 'cdd.dll',\n",
       " 'cdosys.dll',\n",
       " 'cdp.dll',\n",
       " 'cdpreference.exe',\n",
       " 'cdprt.dll',\n",
       " 'cdpsvc.dll',\n",
       " 'cdpusersvc.dll',\n",
       " 'CellularAPI.dll',\n",
       " 'cemapi.dll',\n",
       " 'cero.rs',\n",
       " 'certca.dll',\n",
       " 'certcli.dll',\n",
       " 'certCredProvider.dll',\n",
       " 'certenc.dll',\n",
       " 'CertEnroll.dll',\n",
       " 'CertEnrollCtrl.exe',\n",
       " 'CertEnrollUI.dll',\n",
       " 'certlm.msc',\n",
       " 'certmgr.dll',\n",
       " 'certmgr.msc',\n",
       " 'CertPKICmdlet.dll',\n",
       " 'CertPolEng.dll',\n",
       " 'certprop.dll',\n",
       " 'certreq.exe',\n",
       " 'certutil.exe',\n",
       " 'cewmdm.dll',\n",
       " 'cfgbkend.dll',\n",
       " 'cfgmgr32.dll',\n",
       " 'CfgSPPolicy.dll',\n",
       " 'cfmifs.dll',\n",
       " 'cfmifsproxy.dll',\n",
       " 'Chakra.dll',\n",
       " 'Chakradiag.dll',\n",
       " 'Chakrathunk.dll',\n",
       " 'change.exe',\n",
       " 'changepk.exe',\n",
       " 'charmap.exe',\n",
       " 'chartv.dll',\n",
       " 'ChatApis.dll',\n",
       " 'chcp.com',\n",
       " 'CheckNetIsolation.exe',\n",
       " 'chglogon.exe',\n",
       " 'chgport.exe',\n",
       " 'chgusr.exe',\n",
       " 'chkdsk.exe',\n",
       " 'chkntfs.exe',\n",
       " 'chkwudrv.dll',\n",
       " 'choice.exe',\n",
       " 'ChsPinyinRanker.dll',\n",
       " 'ChsStrokeDS.dll',\n",
       " 'chs_singlechar_pinyin.dat',\n",
       " 'ChtCangjieDS.dll',\n",
       " 'ChtHkStrokeDS.dll',\n",
       " 'ChtQuickDS.dll',\n",
       " 'ChxAPDS.dll',\n",
       " 'ChxHAPDS.dll',\n",
       " 'chxinputrouter.dll',\n",
       " 'chxranker.dll',\n",
       " 'CHxReadingStringIME.dll',\n",
       " 'ci.dll',\n",
       " 'cic.dll',\n",
       " 'cipher.exe',\n",
       " 'CIRCoInst.dll',\n",
       " 'CIWmi.dll',\n",
       " 'clb.dll',\n",
       " 'clbcatq.dll',\n",
       " 'cleanmgr.exe',\n",
       " 'clfsw32.dll',\n",
       " 'cliconfg.dll',\n",
       " 'cliconfg.exe',\n",
       " 'cliconfg.rll',\n",
       " 'clinfo.exe',\n",
       " 'clip.exe',\n",
       " 'ClipboardServer.dll',\n",
       " 'Clipc.dll',\n",
       " 'ClipSVC.dll',\n",
       " 'ClipUp.exe',\n",
       " 'cloudAP.dll',\n",
       " 'CloudBackupSettings.dll',\n",
       " 'CloudDomainJoinAUG.dll',\n",
       " 'CloudDomainJoinDataModelServer.dll',\n",
       " 'CloudExperienceHost.dll',\n",
       " 'CloudExperienceHostBroker.dll',\n",
       " 'CloudExperienceHostBroker.exe',\n",
       " 'CloudExperienceHostCommon.dll',\n",
       " 'CloudExperienceHostUser.dll',\n",
       " 'CloudNotifications.exe',\n",
       " 'CloudStorageWizard.exe',\n",
       " 'clrhost.dll',\n",
       " 'clusapi.dll',\n",
       " 'cmcfg32.dll',\n",
       " 'cmd.exe',\n",
       " 'cmdext.dll',\n",
       " 'cmdial32.dll',\n",
       " 'cmdkey.exe',\n",
       " 'cmdl32.exe',\n",
       " 'cmgrcspps.dll',\n",
       " 'cmifw.dll',\n",
       " 'cmintegrator.dll',\n",
       " 'cmlua.dll',\n",
       " 'cmmon32.exe',\n",
       " 'cmpbk32.dll',\n",
       " 'cmstp.exe',\n",
       " 'cmstplua.dll',\n",
       " 'CMUSBDACASIO64.dll',\n",
       " 'cmutil.dll',\n",
       " 'cngcredui.dll',\n",
       " 'cngprovider.dll',\n",
       " 'cnvfat.dll',\n",
       " 'cob-au.rs',\n",
       " 'CodeIntegrity',\n",
       " 'cofire.exe',\n",
       " 'cofiredm.dll',\n",
       " 'coinst_15.20.dll',\n",
       " 'colbact.dll',\n",
       " 'COLORCNV.DLL',\n",
       " 'colorcpl.exe',\n",
       " 'ColorImageEnhancement.wmv',\n",
       " 'colorui.dll',\n",
       " 'Com',\n",
       " 'combase.dll',\n",
       " 'comcat.dll',\n",
       " 'comctl32.dll',\n",
       " 'comdlg32.dll',\n",
       " 'comexp.msc',\n",
       " 'coml2.dll',\n",
       " 'common_clang64.dll',\n",
       " 'comp.exe',\n",
       " 'compact.exe',\n",
       " 'CompatTelRunner.exe',\n",
       " 'compmgmt.msc',\n",
       " 'CompMgmtLauncher.exe',\n",
       " 'CompPkgSup.dll',\n",
       " 'compstui.dll',\n",
       " 'ComputerDefaults.exe',\n",
       " 'comrepl.dll',\n",
       " 'comres.dll',\n",
       " 'comsnap.dll',\n",
       " 'comsvcs.dll',\n",
       " 'comuid.dll',\n",
       " 'concrt140.dll',\n",
       " 'concrt140d.dll',\n",
       " 'CONEQMSAPOGUILibrary.dll',\n",
       " 'config',\n",
       " 'configmanager2.dll',\n",
       " 'Configuration',\n",
       " 'configurationclient.dll',\n",
       " 'ConfigureExpandedStorage.dll',\n",
       " 'conhost.exe',\n",
       " 'ConhostV1.dll',\n",
       " 'ConhostV2.dll',\n",
       " 'connect.dll',\n",
       " 'ConnectedAccountState.dll',\n",
       " 'consent.exe',\n",
       " 'ConsentUX.dll',\n",
       " 'console.dll',\n",
       " 'ConsoleLogon.dll',\n",
       " 'ContactActivation.dll',\n",
       " 'ContactApis.dll',\n",
       " 'ContactHarvesterDS.dll',\n",
       " 'container.dll',\n",
       " 'containers',\n",
       " 'ContainerUpdater.exe',\n",
       " 'container_xml.dll',\n",
       " 'ContentDeliveryManager.Utilities.dll',\n",
       " 'control.exe',\n",
       " 'convert.exe',\n",
       " 'coreaudiopolicymanagerext.dll',\n",
       " 'coredpus.dll',\n",
       " 'CoreMessaging.dll',\n",
       " 'CoreMmRes.dll',\n",
       " 'CoreUIComponents.dll',\n",
       " 'correngine.dll',\n",
       " 'Cortana.Persona.dll',\n",
       " 'CortanaMapiHelper.dll',\n",
       " 'CortanaMapiHelper.ProxyStub.dll',\n",
       " 'CourtesyEngine.dll',\n",
       " 'CPFilters.dll',\n",
       " 'cp_resources.bin',\n",
       " 'CredentialMigrationHandler.dll',\n",
       " 'CredentialUIBroker.exe',\n",
       " 'CredProvDataModel.dll',\n",
       " 'credprovhost.dll',\n",
       " 'credprovs.dll',\n",
       " 'credprovslegacy.dll',\n",
       " 'credssp.dll',\n",
       " 'credui.dll',\n",
       " 'credwiz.exe',\n",
       " 'crypt32.dll',\n",
       " 'cryptbase.dll',\n",
       " 'cryptcatsvc.dll',\n",
       " 'cryptdlg.dll',\n",
       " 'cryptdll.dll',\n",
       " 'cryptext.dll',\n",
       " 'cryptnet.dll',\n",
       " 'cryptngc.dll',\n",
       " 'CryptoWinRT.dll',\n",
       " 'cryptsp.dll',\n",
       " 'cryptsvc.dll',\n",
       " 'crypttpmeksvc.dll',\n",
       " 'cryptui.dll',\n",
       " 'cryptuiwizard.dll',\n",
       " 'cryptxml.dll',\n",
       " 'cs-CZ',\n",
       " 'cscapi.dll',\n",
       " 'cscdll.dll',\n",
       " 'CscMig.dll',\n",
       " 'cscobj.dll',\n",
       " 'cscript.exe',\n",
       " 'cscsvc.dll',\n",
       " 'cscui.dll',\n",
       " 'CspProxy.dll',\n",
       " 'csrr.rs',\n",
       " 'csrsrv.dll',\n",
       " 'csrss.exe',\n",
       " 'CSystemEventsBrokerClient.dll',\n",
       " 'ctfmon.exe',\n",
       " 'cttune.exe',\n",
       " 'cttunesvr.exe',\n",
       " 'C_037.NLS',\n",
       " 'C_10000.NLS',\n",
       " 'C_10001.NLS',\n",
       " 'C_10002.NLS',\n",
       " 'C_10003.NLS',\n",
       " 'C_10004.NLS',\n",
       " 'C_10005.NLS',\n",
       " 'C_10006.NLS',\n",
       " 'C_10007.NLS',\n",
       " 'C_10008.NLS',\n",
       " 'C_10010.NLS',\n",
       " 'C_10017.NLS',\n",
       " 'C_10021.NLS',\n",
       " 'C_10029.NLS',\n",
       " 'C_10079.NLS',\n",
       " 'C_10081.NLS',\n",
       " 'C_10082.NLS',\n",
       " 'C_1026.NLS',\n",
       " 'C_1047.NLS',\n",
       " 'C_1140.NLS',\n",
       " 'C_1141.NLS',\n",
       " 'C_1142.NLS',\n",
       " 'C_1143.NLS',\n",
       " 'C_1144.NLS',\n",
       " 'C_1145.NLS',\n",
       " 'C_1146.NLS',\n",
       " 'C_1147.NLS',\n",
       " 'C_1148.NLS',\n",
       " 'C_1149.NLS',\n",
       " 'C_1250.NLS',\n",
       " 'C_1251.NLS',\n",
       " 'C_1252.NLS',\n",
       " 'C_1253.NLS',\n",
       " 'C_1254.NLS',\n",
       " 'C_1255.NLS',\n",
       " 'C_1256.NLS',\n",
       " 'C_1257.NLS',\n",
       " 'C_1258.NLS',\n",
       " 'C_1361.NLS',\n",
       " 'C_20000.NLS',\n",
       " 'C_20001.NLS',\n",
       " 'C_20002.NLS',\n",
       " 'C_20003.NLS',\n",
       " 'C_20004.NLS',\n",
       " 'C_20005.NLS',\n",
       " 'C_20105.NLS',\n",
       " 'C_20106.NLS',\n",
       " 'C_20107.NLS',\n",
       " 'C_20108.NLS',\n",
       " 'C_20127.NLS',\n",
       " 'C_20261.NLS',\n",
       " 'C_20269.NLS',\n",
       " 'C_20273.NLS',\n",
       " 'C_20277.NLS',\n",
       " 'C_20278.NLS',\n",
       " 'C_20280.NLS',\n",
       " 'C_20284.NLS',\n",
       " 'C_20285.NLS',\n",
       " 'C_20290.NLS',\n",
       " 'C_20297.NLS',\n",
       " 'C_20420.NLS',\n",
       " 'C_20423.NLS',\n",
       " 'C_20424.NLS',\n",
       " 'C_20833.NLS',\n",
       " 'C_20838.NLS',\n",
       " 'C_20866.NLS',\n",
       " 'C_20871.NLS',\n",
       " 'C_20880.NLS',\n",
       " 'C_20905.NLS',\n",
       " 'C_20924.NLS',\n",
       " 'C_20932.NLS',\n",
       " 'C_20936.NLS',\n",
       " 'C_20949.NLS',\n",
       " 'C_21025.NLS',\n",
       " 'C_21027.NLS',\n",
       " 'C_21866.NLS',\n",
       " 'C_28591.NLS',\n",
       " 'C_28592.NLS',\n",
       " 'C_28593.NLS',\n",
       " 'C_28594.NLS',\n",
       " 'C_28595.NLS',\n",
       " 'C_28596.NLS',\n",
       " 'C_28597.NLS',\n",
       " 'C_28598.NLS',\n",
       " 'C_28599.NLS',\n",
       " 'c_28603.nls',\n",
       " 'C_28605.NLS',\n",
       " 'C_437.NLS',\n",
       " 'C_500.NLS',\n",
       " 'C_708.NLS',\n",
       " 'C_720.NLS',\n",
       " 'C_737.NLS',\n",
       " 'C_775.NLS',\n",
       " 'C_850.NLS',\n",
       " 'C_852.NLS',\n",
       " 'C_855.NLS',\n",
       " 'C_857.NLS',\n",
       " 'C_858.NLS',\n",
       " 'C_860.NLS',\n",
       " 'C_861.NLS',\n",
       " 'C_862.NLS',\n",
       " 'C_863.NLS',\n",
       " 'C_864.NLS',\n",
       " 'C_865.NLS',\n",
       " 'C_866.NLS',\n",
       " 'C_869.NLS',\n",
       " 'C_870.NLS',\n",
       " 'C_874.NLS',\n",
       " 'C_875.NLS',\n",
       " 'C_932.NLS',\n",
       " 'C_936.NLS',\n",
       " 'C_949.NLS',\n",
       " 'C_950.NLS',\n",
       " 'C_G18030.DLL',\n",
       " 'c_GSM7.DLL',\n",
       " 'C_IS2022.DLL',\n",
       " 'C_ISCII.DLL',\n",
       " 'd2d1.dll',\n",
       " 'd2d1debug2.dll',\n",
       " 'd2d1debug3.dll',\n",
       " 'd3d10.dll',\n",
       " 'd3d10core.dll',\n",
       " 'd3d10level9.dll',\n",
       " 'd3d10ref.dll',\n",
       " 'd3d10sdklayers.dll',\n",
       " 'd3d10warp.dll',\n",
       " 'd3d10_1.dll',\n",
       " 'd3d10_1core.dll',\n",
       " 'd3d11.dll',\n",
       " 'd3d11ref.dll',\n",
       " 'd3d11sdklayers.dll',\n",
       " 'd3d11_1sdklayers.dll',\n",
       " 'd3d11_2sdklayers.dll',\n",
       " 'd3d11_3SDKLayers.dll',\n",
       " 'D3D12.dll',\n",
       " 'd3d12SDKLayers.dll',\n",
       " 'd3d12warp.dll',\n",
       " 'd3d8thk.dll',\n",
       " 'd3d9.dll',\n",
       " 'D3DCompiler_33.dll',\n",
       " 'D3DCompiler_34.dll',\n",
       " 'D3DCompiler_35.dll',\n",
       " 'D3DCompiler_36.dll',\n",
       " 'D3DCompiler_37.dll',\n",
       " 'D3DCompiler_38.dll',\n",
       " 'D3DCompiler_39.dll',\n",
       " 'D3DCompiler_40.dll',\n",
       " 'D3DCompiler_41.dll',\n",
       " 'D3DCompiler_42.dll',\n",
       " 'D3DCompiler_43.dll',\n",
       " 'D3DCompiler_47.dll',\n",
       " 'd3dcsx_42.dll',\n",
       " 'd3dcsx_43.dll',\n",
       " 'd3dref9.dll',\n",
       " 'd3dx10.dll',\n",
       " 'd3dx10_33.dll',\n",
       " 'd3dx10_34.dll',\n",
       " 'd3dx10_35.dll',\n",
       " 'd3dx10_36.dll',\n",
       " 'd3dx10_37.dll',\n",
       " 'd3dx10_38.dll',\n",
       " 'd3dx10_39.dll',\n",
       " 'd3dx10_40.dll',\n",
       " 'd3dx10_41.dll',\n",
       " 'd3dx10_42.dll',\n",
       " 'd3dx10_43.dll',\n",
       " 'd3dx11_42.dll',\n",
       " 'd3dx11_43.dll',\n",
       " 'd3dx9_24.dll',\n",
       " 'd3dx9_25.dll',\n",
       " 'd3dx9_26.dll',\n",
       " 'd3dx9_27.dll',\n",
       " 'd3dx9_28.dll',\n",
       " 'd3dx9_29.dll',\n",
       " 'd3dx9_30.dll',\n",
       " 'd3dx9_31.dll',\n",
       " 'd3dx9_32.dll',\n",
       " 'd3dx9_33.dll',\n",
       " 'd3dx9_34.dll',\n",
       " 'd3dx9_35.dll',\n",
       " 'd3dx9_36.dll',\n",
       " 'D3DX9_37.dll',\n",
       " 'D3DX9_38.dll',\n",
       " 'D3DX9_39.dll',\n",
       " 'D3DX9_40.dll',\n",
       " 'D3DX9_41.dll',\n",
       " 'D3DX9_42.dll',\n",
       " 'D3DX9_43.dll',\n",
       " 'da-DK',\n",
       " 'dab.dll',\n",
       " 'dabapi.dll',\n",
       " 'DAConn.dll',\n",
       " 'dafBth.dll',\n",
       " 'DafCdp.dll',\n",
       " 'DafDnsSd.dll',\n",
       " 'dafDockingProvider.dll',\n",
       " 'DafGip.dll',\n",
       " 'DAFIoT.dll',\n",
       " 'dafpos.dll',\n",
       " 'DafPrintProvider.dll',\n",
       " 'dafupnp.dll',\n",
       " 'dafWCN.dll',\n",
       " 'dafWfdProvider.dll',\n",
       " 'DAFWiProv.dll',\n",
       " 'DAFWSD.dll',\n",
       " 'DAMediaManager.dll',\n",
       " 'DAMM.dll',\n",
       " 'DaOtpCredentialProvider.dll',\n",
       " 'das.dll',\n",
       " 'dasHost.exe',\n",
       " 'dataclen.dll',\n",
       " 'DataExchange.dll',\n",
       " 'DataExchangeHost.exe',\n",
       " 'DataSenseHandlers.dll',\n",
       " 'DataSenseLiveTileTask.exe',\n",
       " 'datusage.dll',\n",
       " 'davclnt.dll',\n",
       " 'davhlpr.dll',\n",
       " 'DavSyncProvider.dll',\n",
       " 'daxexec.dll',\n",
       " 'dbgcore.dll',\n",
       " 'dbgeng.dll',\n",
       " 'dbghelp.dll',\n",
       " 'DbgModel.dll',\n",
       " 'dbnetlib.dll',\n",
       " 'dbnmpntw.dll',\n",
       " 'dccw.exe',\n",
       " 'dciman32.dll',\n",
       " 'dcomcnfg.exe',\n",
       " 'dcomp.dll',\n",
       " 'dcpapi.dll',\n",
       " 'dcpsvc.dll',\n",
       " 'dcpurapi.dll',\n",
       " 'DDACLSys.dll',\n",
       " 'DdcWnsListener.dll',\n",
       " 'DDDS.dll',\n",
       " 'DDFs',\n",
       " 'ddodiag.exe',\n",
       " 'DDOIProxy.dll',\n",
       " 'DDORes.dll',\n",
       " 'ddpchunk.dll',\n",
       " 'ddptrace.dll',\n",
       " 'ddputils.dll',\n",
       " 'ddp_ps.dll',\n",
       " 'ddraw.dll',\n",
       " 'ddrawex.dll',\n",
       " 'de-DE',\n",
       " 'DefaultDeviceManager.dll',\n",
       " 'DefaultHrtfs.bin',\n",
       " 'DefaultPrinterProvider.dll',\n",
       " 'DefaultQuestions.json',\n",
       " 'Defrag.exe',\n",
       " 'defragproxy.dll',\n",
       " 'defragres.dll',\n",
       " 'defragsvc.dll',\n",
       " 'DelayAPO.dll',\n",
       " 'delegatorprovider.dll',\n",
       " 'desk.cpl',\n",
       " 'deskadp.dll',\n",
       " 'deskmon.dll',\n",
       " 'DesktopShellExt.dll',\n",
       " 'detoured.dll',\n",
       " 'DevDispItemProvider.dll',\n",
       " 'DeveloperOptionsSettingsHandlers.dll',\n",
       " 'devenum.dll',\n",
       " 'deviceaccess.dll',\n",
       " 'deviceassociation.dll',\n",
       " 'DeviceCensus.exe',\n",
       " 'DeviceCenter.dll',\n",
       " 'DeviceCredential.dll',\n",
       " 'DeviceDirectoryClient.dll',\n",
       " 'DeviceDisplayStatusManager.dll',\n",
       " 'DeviceDriverRetrievalClient.dll',\n",
       " 'DeviceEject.exe',\n",
       " 'DeviceElementSource.dll',\n",
       " 'DeviceEnroller.exe',\n",
       " 'DeviceFlows.DataModel.dll',\n",
       " 'DeviceMetadataRetrievalClient.dll',\n",
       " 'devicengccredprov.dll',\n",
       " 'DevicePairing.dll',\n",
       " 'DevicePairingFolder.dll',\n",
       " 'DevicePairingProxy.dll',\n",
       " 'DevicePairingWizard.exe',\n",
       " 'DeviceProperties.exe',\n",
       " 'DeviceReactivation.dll',\n",
       " 'deviceregistration.dll',\n",
       " 'DeviceSetupManager.dll',\n",
       " 'DeviceSetupManagerAPI.dll',\n",
       " 'DeviceSetupStatusProvider.dll',\n",
       " 'DevicesFlowBroker.dll',\n",
       " 'DeviceUxRes.dll',\n",
       " 'devinv.dll',\n",
       " 'DevManagerCore.dll',\n",
       " 'devmgmt.msc',\n",
       " 'devmgr.dll',\n",
       " 'DevModeRunAsUserConfig.msc',\n",
       " 'devobj.dll',\n",
       " 'DevPropMgr.dll',\n",
       " 'DevQueryBroker.dll',\n",
       " 'devrtl.dll',\n",
       " 'dfdts.dll',\n",
       " 'DFDWiz.exe',\n",
       " 'dfrgui.exe',\n",
       " 'dfscli.dll',\n",
       " 'dfshim.dll',\n",
       " 'DfsShlEx.dll',\n",
       " 'dggpext.dll',\n",
       " 'dgtrayicon.exe',\n",
       " 'dhcpcmonitor.dll',\n",
       " 'dhcpcore.dll',\n",
       " 'dhcpcore6.dll',\n",
       " 'dhcpcsvc.dll',\n",
       " 'dhcpcsvc6.dll',\n",
       " 'dhcpsapi.dll',\n",
       " 'DiagCpl.dll',\n",
       " 'DiagnosticLogCSP.dll',\n",
       " 'diagperf.dll',\n",
       " 'DiagSvcs',\n",
       " 'diagtrack.dll',\n",
       " 'dialclient.dll',\n",
       " 'dialer.exe',\n",
       " 'dialserver.dll',\n",
       " 'DictationManager.dll',\n",
       " 'difx64.exe',\n",
       " 'difxapi.dll',\n",
       " 'dimsjob.dll',\n",
       " 'dimsroam.dll',\n",
       " 'dinput.dll',\n",
       " 'dinput8.dll',\n",
       " 'Direct2DDesktop.dll',\n",
       " 'directmanipulation.dll',\n",
       " 'discan.dll',\n",
       " 'diskmgmt.msc',\n",
       " 'diskpart.exe',\n",
       " 'diskperf.exe',\n",
       " 'diskraid.exe',\n",
       " 'DiskSnapshot.conf',\n",
       " 'DiskSnapshot.exe',\n",
       " 'Dism',\n",
       " 'Dism.exe',\n",
       " 'DismApi.dll',\n",
       " 'dispci.dll',\n",
       " 'dispdiag.exe',\n",
       " 'dispex.dll',\n",
       " 'Display.dll',\n",
       " 'DisplayAudiox64.cab',\n",
       " 'DisplayManager.dll',\n",
       " 'DisplaySwitch.exe',\n",
       " 'djctq.rs',\n",
       " 'djoin.exe',\n",
       " 'dllhost.exe',\n",
       " 'dllhst3g.exe',\n",
       " 'dlnashext.dll',\n",
       " 'DmApiSetExtImplDesktop.dll',\n",
       " 'DMAppsRes.dll',\n",
       " 'dmcertinst.exe',\n",
       " 'dmcfghost.exe',\n",
       " 'dmcfgutils.dll',\n",
       " 'dmclient.exe',\n",
       " 'dmcmnutils.dll',\n",
       " 'dmcommandlineutils.dll',\n",
       " 'dmcsps.dll',\n",
       " 'dmdlgs.dll',\n",
       " 'dmdskmgr.dll',\n",
       " 'dmdskres.dll',\n",
       " 'dmdskres2.dll',\n",
       " 'dmenrollengine.dll',\n",
       " 'dmenterprisediagnostics.dll',\n",
       " 'dmintf.dll',\n",
       " 'dmiso8601utils.dll',\n",
       " 'dmloader.dll',\n",
       " 'DmNotificationBroker.exe',\n",
       " 'dmocx.dll',\n",
       " 'dmoleaututils.dll',\n",
       " 'DmOmaCpMo.exe',\n",
       " 'dmprocessxmlfiltered.dll',\n",
       " 'dmpushproxy.dll',\n",
       " 'DMPushRouterCore.dll',\n",
       " 'DMRServer.dll',\n",
       " 'dmsynth.dll',\n",
       " 'dmusic.dll',\n",
       " 'dmutil.dll',\n",
       " 'dmvdsitf.dll',\n",
       " 'dmview.ocx',\n",
       " 'dmwappushsvc.dll',\n",
       " 'dmwmicsp.dll',\n",
       " 'dmxmlhelputils.dll',\n",
       " 'dnsapi.dll',\n",
       " 'dnscacheugc.exe',\n",
       " 'dnscmmc.dll',\n",
       " 'dnsext.dll',\n",
       " 'dnshc.dll',\n",
       " 'dnsrslvr.dll',\n",
       " 'DockInterface.ProxyStub.dll',\n",
       " 'docprop.dll',\n",
       " 'DocumentPerformanceEvents.dll',\n",
       " 'DolbyDecMFT.dll',\n",
       " 'domgmt.dll',\n",
       " 'doskey.exe',\n",
       " 'dosvc.dll',\n",
       " 'dot3api.dll',\n",
       " 'dot3cfg.dll',\n",
       " 'Dot3Conn.dll',\n",
       " 'dot3dlg.dll',\n",
       " 'dot3gpclnt.dll',\n",
       " 'dot3gpui.dll',\n",
       " 'dot3hc.dll',\n",
       " 'dot3mm.dll',\n",
       " 'dot3msm.dll',\n",
       " 'dot3svc.dll',\n",
       " 'dot3ui.dll',\n",
       " 'downlevel',\n",
       " ...]"
      ]
     },
     "execution_count": 44,
     "metadata": {},
     "output_type": "execute_result"
    }
   ],
   "source": [
    "os.listdir('C:\\\\windows\\\\System32')"
   ]
  },
  {
   "cell_type": "code",
   "execution_count": 45,
   "metadata": {
    "collapsed": false
   },
   "outputs": [
    {
     "data": {
      "text/plain": [
       "['.git',\n",
       " '.gitignore',\n",
       " '.idea',\n",
       " '.ipynb_checkpoints',\n",
       " 'Chapter8_ShellWork.ipynb',\n",
       " 'delicious']"
      ]
     },
     "execution_count": 45,
     "metadata": {},
     "output_type": "execute_result"
    }
   ],
   "source": [
    "os.listdir()"
   ]
  },
  {
   "cell_type": "code",
   "execution_count": 48,
   "metadata": {
    "collapsed": false
   },
   "outputs": [
    {
     "name": "stdout",
     "output_type": "stream",
     "text": [
      "21648552\n"
     ]
    }
   ],
   "source": [
    "totalSize = 0\n",
    "for filename in os.listdir('C:\\\\Users\\\\HOME4400'):\n",
    "    totalSize = totalSize + os.path.getsize(os.path.join('C:\\\\Users\\\\HOME4400', filename))\n",
    "print(totalSize)"
   ]
  },
  {
   "cell_type": "code",
   "execution_count": 49,
   "metadata": {
    "collapsed": false
   },
   "outputs": [
    {
     "data": {
      "text/plain": [
       "True"
      ]
     },
     "execution_count": 49,
     "metadata": {},
     "output_type": "execute_result"
    }
   ],
   "source": [
    "os.path.exists('C:\\\\Windows')"
   ]
  },
  {
   "cell_type": "code",
   "execution_count": 50,
   "metadata": {
    "collapsed": false
   },
   "outputs": [
    {
     "data": {
      "text/plain": [
       "False"
      ]
     },
     "execution_count": 50,
     "metadata": {},
     "output_type": "execute_result"
    }
   ],
   "source": [
    "os.path.exists('C:\\\\some_made_up_folder')"
   ]
  },
  {
   "cell_type": "code",
   "execution_count": 51,
   "metadata": {
    "collapsed": false
   },
   "outputs": [
    {
     "data": {
      "text/plain": [
       "True"
      ]
     },
     "execution_count": 51,
     "metadata": {},
     "output_type": "execute_result"
    }
   ],
   "source": [
    "os.path.isdir('C:\\\\Windows\\\\System32')"
   ]
  },
  {
   "cell_type": "code",
   "execution_count": 52,
   "metadata": {
    "collapsed": false
   },
   "outputs": [
    {
     "data": {
      "text/plain": [
       "False"
      ]
     },
     "execution_count": 52,
     "metadata": {},
     "output_type": "execute_result"
    }
   ],
   "source": [
    "os.path.isfile('C:\\\\windows\\\\System32')"
   ]
  },
  {
   "cell_type": "code",
   "execution_count": 53,
   "metadata": {
    "collapsed": false
   },
   "outputs": [
    {
     "data": {
      "text/plain": [
       "False"
      ]
     },
     "execution_count": 53,
     "metadata": {},
     "output_type": "execute_result"
    }
   ],
   "source": [
    "os.path.isdir('C:\\\\Windows\\\\System32\\\\calc.exe')"
   ]
  },
  {
   "cell_type": "code",
   "execution_count": 55,
   "metadata": {
    "collapsed": false
   },
   "outputs": [
    {
     "data": {
      "text/plain": [
       "True"
      ]
     },
     "execution_count": 55,
     "metadata": {},
     "output_type": "execute_result"
    }
   ],
   "source": [
    "os.path.isfile('C:\\\\Windows\\\\System32\\\\calc.exe')"
   ]
  },
  {
   "cell_type": "code",
   "execution_count": 56,
   "metadata": {
    "collapsed": false
   },
   "outputs": [
    {
     "data": {
      "text/plain": [
       "True"
      ]
     },
     "execution_count": 56,
     "metadata": {},
     "output_type": "execute_result"
    }
   ],
   "source": [
    "os.path.exists('D:\\\\')"
   ]
  },
  {
   "cell_type": "code",
   "execution_count": 57,
   "metadata": {
    "collapsed": false
   },
   "outputs": [
    {
     "data": {
      "text/plain": [
       "False"
      ]
     },
     "execution_count": 57,
     "metadata": {},
     "output_type": "execute_result"
    }
   ],
   "source": [
    "os.path.exists('E:\\\\')"
   ]
  },
  {
   "cell_type": "markdown",
   "metadata": {},
   "source": [
    "## Hello Files\n",
    "- call open() to return a file object\n",
    "- call read() or write() *method* on the file object\n",
    "- close the file by calling teh close() method on the file object"
   ]
  },
  {
   "cell_type": "code",
   "execution_count": 60,
   "metadata": {
    "collapsed": true
   },
   "outputs": [],
   "source": [
    "helloFile = open('C:\\\\Users\\\\HOME4400\\\\hello.txt', 'r')"
   ]
  },
  {
   "cell_type": "code",
   "execution_count": 61,
   "metadata": {
    "collapsed": false
   },
   "outputs": [
    {
     "data": {
      "text/plain": [
       "'hello world!'"
      ]
     },
     "execution_count": 61,
     "metadata": {},
     "output_type": "execute_result"
    }
   ],
   "source": [
    "helloContent = helloFile.read()\n",
    "helloContent"
   ]
  },
  {
   "cell_type": "code",
   "execution_count": 2,
   "metadata": {
    "collapsed": false
   },
   "outputs": [
    {
     "data": {
      "text/plain": [
       "[\"When, in disgrace with fortune and men's eyes,\\n\",\n",
       " 'I all alone beweep my outcast state,\\n',\n",
       " 'And trouble deaf heaven with my bootless cries,\\n',\n",
       " 'And look upon myself and curse my fate,']"
      ]
     },
     "execution_count": 2,
     "metadata": {},
     "output_type": "execute_result"
    }
   ],
   "source": [
    "sonnetFile = open('C:\\\\Users\\\\HOME4400\\\\sonnet29.txt')\n",
    "sonnetFile.readlines()"
   ]
  },
  {
   "cell_type": "code",
   "execution_count": 11,
   "metadata": {
    "collapsed": false
   },
   "outputs": [
    {
     "name": "stdout",
     "output_type": "stream",
     "text": [
      "When, in disgrace with fortune and men's eyes,\n",
      "\n",
      "I all alone beweep my outcast state,\n",
      "\n",
      "And trouble deaf heaven with my bootless cries,\n",
      "\n",
      "And look upon myself and curse my fate,\n"
     ]
    }
   ],
   "source": [
    "sonnetFile = open('C:\\\\Users\\\\HOME4400\\\\sonnet29.txt')\n",
    "L = sonnetFile.readlines()\n",
    "L2 = []\n",
    "for n in L:\n",
    "    L2.append(n)\n",
    "    print(n)"
   ]
  },
  {
   "cell_type": "code",
   "execution_count": 28,
   "metadata": {
    "collapsed": false
   },
   "outputs": [
    {
     "data": {
      "text/plain": [
       "[(0, \"When, in disgrace with fortune and men's eyes,\\n\"),\n",
       " (2, 'And trouble deaf heaven with my bootless cries,\\n')]"
      ]
     },
     "execution_count": 28,
     "metadata": {},
     "output_type": "execute_result"
    }
   ],
   "source": [
    "sonnetFile = open('C:\\\\Users\\\\HOME4400\\\\sonnet29.txt')\n",
    "L = sonnetFile.readlines()\n",
    "L2 = [(n,x) for n,x in enumerate(L) if n in range(0, len(L), 2)]\n",
    "L2"
   ]
  },
  {
   "cell_type": "code",
   "execution_count": 24,
   "metadata": {
    "collapsed": false,
    "scrolled": true
   },
   "outputs": [
    {
     "name": "stdout",
     "output_type": "stream",
     "text": [
      "Help on class enumerate in module builtins:\n",
      "\n",
      "class enumerate(object)\n",
      " |  enumerate(iterable[, start]) -> iterator for index, value of iterable\n",
      " |  \n",
      " |  Return an enumerate object.  iterable must be another object that supports\n",
      " |  iteration.  The enumerate object yields pairs containing a count (from\n",
      " |  start, which defaults to zero) and a value yielded by the iterable argument.\n",
      " |  enumerate is useful for obtaining an indexed list:\n",
      " |      (0, seq[0]), (1, seq[1]), (2, seq[2]), ...\n",
      " |  \n",
      " |  Methods defined here:\n",
      " |  \n",
      " |  __getattribute__(self, name, /)\n",
      " |      Return getattr(self, name).\n",
      " |  \n",
      " |  __iter__(self, /)\n",
      " |      Implement iter(self).\n",
      " |  \n",
      " |  __new__(*args, **kwargs) from builtins.type\n",
      " |      Create and return a new object.  See help(type) for accurate signature.\n",
      " |  \n",
      " |  __next__(self, /)\n",
      " |      Implement next(self).\n",
      " |  \n",
      " |  __reduce__(...)\n",
      " |      Return state information for pickling.\n",
      "\n"
     ]
    }
   ],
   "source": [
    "help(enumerate)"
   ]
  },
  {
   "cell_type": "code",
   "execution_count": 39,
   "metadata": {
    "collapsed": false
   },
   "outputs": [
    {
     "data": {
      "text/plain": [
       "13"
      ]
     },
     "execution_count": 39,
     "metadata": {},
     "output_type": "execute_result"
    }
   ],
   "source": [
    "baconFile = open('C:\\\\Users\\\\HOME4400\\\\bacon.txt', 'w')\n",
    "baconFile.write('Hello world!\\n')"
   ]
  },
  {
   "cell_type": "code",
   "execution_count": 40,
   "metadata": {
    "collapsed": true
   },
   "outputs": [],
   "source": [
    "baconFile.close()"
   ]
  },
  {
   "cell_type": "code",
   "execution_count": 41,
   "metadata": {
    "collapsed": true
   },
   "outputs": [],
   "source": [
    "baconFile = open('C:\\\\Users\\\\HOME4400\\\\bacon.txt', 'a')\n",
    "baconFile.write('Bacon is not a vegetable')\n",
    "baconFile.close()"
   ]
  },
  {
   "cell_type": "code",
   "execution_count": 42,
   "metadata": {
    "collapsed": false
   },
   "outputs": [
    {
     "name": "stdout",
     "output_type": "stream",
     "text": [
      "Hello world!\n",
      "Bacon is not a vegetable\n"
     ]
    }
   ],
   "source": [
    "baconFile = open('C:\\\\Users\\\\HOME4400\\\\bacon.txt')\n",
    "content = baconFile.read()\n",
    "baconFile.close()\n",
    "print(content)"
   ]
  },
  {
   "cell_type": "code",
   "execution_count": 44,
   "metadata": {
    "collapsed": false
   },
   "outputs": [
    {
     "data": {
      "text/plain": [
       "'C:\\\\Users\\\\HOME4400\\\\PycharmProjects\\\\AutomateTheBoringStuff\\\\Chapter8_ReadingAndWritingFiles'"
      ]
     },
     "execution_count": 44,
     "metadata": {},
     "output_type": "execute_result"
    }
   ],
   "source": [
    "import os\n",
    "os.getcwd()"
   ]
  },
  {
   "cell_type": "code",
   "execution_count": 45,
   "metadata": {
    "collapsed": true
   },
   "outputs": [],
   "source": [
    "import shelve\n",
    "shelfFile = shelve.open('mydata')\n",
    "cats = ['Zophie', 'Pooka', 'Simon']\n",
    "shelfFile['cats'] = cats\n",
    "shelfFile.close()"
   ]
  },
  {
   "cell_type": "code",
   "execution_count": 46,
   "metadata": {
    "collapsed": true
   },
   "outputs": [],
   "source": [
    "shelfFile = shelve.open('mydata')"
   ]
  },
  {
   "cell_type": "code",
   "execution_count": 47,
   "metadata": {
    "collapsed": false
   },
   "outputs": [
    {
     "data": {
      "text/plain": [
       "shelve.DbfilenameShelf"
      ]
     },
     "execution_count": 47,
     "metadata": {},
     "output_type": "execute_result"
    }
   ],
   "source": [
    "type(shelfFile)"
   ]
  },
  {
   "cell_type": "code",
   "execution_count": 48,
   "metadata": {
    "collapsed": false
   },
   "outputs": [
    {
     "data": {
      "text/plain": [
       "['Zophie', 'Pooka', 'Simon']"
      ]
     },
     "execution_count": 48,
     "metadata": {},
     "output_type": "execute_result"
    }
   ],
   "source": [
    "shelfFile['cats']"
   ]
  },
  {
   "cell_type": "code",
   "execution_count": 51,
   "metadata": {
    "collapsed": true
   },
   "outputs": [],
   "source": [
    "shelfFile.close()"
   ]
  },
  {
   "cell_type": "code",
   "execution_count": 52,
   "metadata": {
    "collapsed": false
   },
   "outputs": [
    {
     "data": {
      "text/plain": [
       "['cats']"
      ]
     },
     "execution_count": 52,
     "metadata": {},
     "output_type": "execute_result"
    }
   ],
   "source": [
    "shelfFile = shelve.open('mydata')\n",
    "list(shelfFile.keys())"
   ]
  },
  {
   "cell_type": "code",
   "execution_count": 53,
   "metadata": {
    "collapsed": false
   },
   "outputs": [
    {
     "data": {
      "text/plain": [
       "[['Zophie', 'Pooka', 'Simon']]"
      ]
     },
     "execution_count": 53,
     "metadata": {},
     "output_type": "execute_result"
    }
   ],
   "source": [
    "list(shelfFile.values())"
   ]
  },
  {
   "cell_type": "code",
   "execution_count": 54,
   "metadata": {
    "collapsed": false
   },
   "outputs": [
    {
     "data": {
      "text/plain": [
       "('cats',)"
      ]
     },
     "execution_count": 54,
     "metadata": {},
     "output_type": "execute_result"
    }
   ],
   "source": [
    "tuple(shelfFile)"
   ]
  },
  {
   "cell_type": "code",
   "execution_count": 55,
   "metadata": {
    "collapsed": false
   },
   "outputs": [
    {
     "data": {
      "text/plain": [
       "<shelve.DbfilenameShelf at 0x1e0783aac50>"
      ]
     },
     "execution_count": 55,
     "metadata": {},
     "output_type": "execute_result"
    }
   ],
   "source": [
    "shelfFile"
   ]
  },
  {
   "cell_type": "code",
   "execution_count": 56,
   "metadata": {
    "collapsed": false
   },
   "outputs": [
    {
     "data": {
      "text/plain": [
       "['cats']"
      ]
     },
     "execution_count": 56,
     "metadata": {},
     "output_type": "execute_result"
    }
   ],
   "source": [
    "list(shelfFile)"
   ]
  },
  {
   "cell_type": "code",
   "execution_count": 57,
   "metadata": {
    "collapsed": false
   },
   "outputs": [
    {
     "data": {
      "text/plain": [
       "{'cats': ['Zophie', 'Pooka', 'Simon']}"
      ]
     },
     "execution_count": 57,
     "metadata": {},
     "output_type": "execute_result"
    }
   ],
   "source": [
    "# I'm trying to see if I can view the key:value pairs of the shelf file at once.\n",
    "dict(shelfFile)"
   ]
  },
  {
   "cell_type": "markdown",
   "metadata": {},
   "source": [
    "### Let's try with markdown. Viewing the key:value pairs of the shelf file."
   ]
  },
  {
   "cell_type": "code",
   "execution_count": 59,
   "metadata": {
    "collapsed": false
   },
   "outputs": [
    {
     "data": {
      "text/plain": [
       "{'cats': ['Zophie', 'Pooka', 'Simon']}"
      ]
     },
     "execution_count": 59,
     "metadata": {},
     "output_type": "execute_result"
    }
   ],
   "source": [
    "dict(shelfFile)"
   ]
  },
  {
   "cell_type": "markdown",
   "metadata": {},
   "source": [
    "###### Messing with Jupyter Notebook shortcuts."
   ]
  },
  {
   "cell_type": "code",
   "execution_count": 60,
   "metadata": {
    "collapsed": true
   },
   "outputs": [],
   "source": [
    "shelfFile.close()"
   ]
  },
  {
   "cell_type": "code",
   "execution_count": 1,
   "metadata": {
    "collapsed": true
   },
   "outputs": [],
   "source": [
    "D = {'name':'Johnny', 'business':'Marketing', 'Income':50000}"
   ]
  },
  {
   "cell_type": "code",
   "execution_count": 2,
   "metadata": {
    "collapsed": false
   },
   "outputs": [
    {
     "data": {
      "text/plain": [
       "{'Income': 50000, 'business': 'Marketing', 'name': 'Johnny'}"
      ]
     },
     "execution_count": 2,
     "metadata": {},
     "output_type": "execute_result"
    }
   ],
   "source": [
    "D"
   ]
  },
  {
   "cell_type": "code",
   "execution_count": 3,
   "metadata": {
    "collapsed": false
   },
   "outputs": [
    {
     "data": {
      "text/plain": [
       "dict"
      ]
     },
     "execution_count": 3,
     "metadata": {},
     "output_type": "execute_result"
    }
   ],
   "source": [
    "type(D)"
   ]
  },
  {
   "cell_type": "code",
   "execution_count": 4,
   "metadata": {
    "collapsed": true
   },
   "outputs": [],
   "source": [
    "import pprint"
   ]
  },
  {
   "cell_type": "code",
   "execution_count": 5,
   "metadata": {
    "collapsed": false
   },
   "outputs": [
    {
     "name": "stdout",
     "output_type": "stream",
     "text": [
      "{'Income': 50000, 'business': 'Marketing', 'name': 'Johnny'}\n"
     ]
    }
   ],
   "source": [
    "pprint.pprint(D)"
   ]
  },
  {
   "cell_type": "code",
   "execution_count": 6,
   "metadata": {
    "collapsed": false
   },
   "outputs": [
    {
     "data": {
      "text/plain": [
       "'Johnny'"
      ]
     },
     "execution_count": 6,
     "metadata": {},
     "output_type": "execute_result"
    }
   ],
   "source": [
    "D['name']"
   ]
  },
  {
   "cell_type": "code",
   "execution_count": 8,
   "metadata": {
    "collapsed": false
   },
   "outputs": [
    {
     "data": {
      "text/plain": [
       "dict_keys(['name', 'business', 'Income'])"
      ]
     },
     "execution_count": 8,
     "metadata": {},
     "output_type": "execute_result"
    }
   ],
   "source": [
    "D.keys()"
   ]
  },
  {
   "cell_type": "code",
   "execution_count": 9,
   "metadata": {
    "collapsed": false
   },
   "outputs": [
    {
     "data": {
      "text/plain": [
       "dict_values(['Johnny', 'Marketing', 50000])"
      ]
     },
     "execution_count": 9,
     "metadata": {},
     "output_type": "execute_result"
    }
   ],
   "source": [
    "D.values()"
   ]
  },
  {
   "cell_type": "code",
   "execution_count": 10,
   "metadata": {
    "collapsed": true
   },
   "outputs": [],
   "source": [
    "D['Location'] = 'New York'"
   ]
  },
  {
   "cell_type": "code",
   "execution_count": 13,
   "metadata": {
    "collapsed": false
   },
   "outputs": [
    {
     "data": {
      "text/plain": [
       "{'Income': 50000,\n",
       " 'Location': 'New York',\n",
       " 'business': 'Marketing',\n",
       " 'name': 'Johnny'}"
      ]
     },
     "execution_count": 13,
     "metadata": {},
     "output_type": "execute_result"
    }
   ],
   "source": [
    "D"
   ]
  },
  {
   "cell_type": "code",
   "execution_count": 2,
   "metadata": {
    "collapsed": false
   },
   "outputs": [
    {
     "data": {
      "text/plain": [
       "\"[{'desc': 'chubby', 'name': 'Zophie'}, {'desc': 'fluffy', 'name': 'Pooka'}]\""
      ]
     },
     "execution_count": 2,
     "metadata": {},
     "output_type": "execute_result"
    }
   ],
   "source": [
    "import pprint\n",
    "cats = [{'name': 'Zophie', 'desc': 'chubby'}, {'name': 'Pooka', 'desc': 'fluffy'}]\n",
    "pprint.pformat(cats)"
   ]
  },
  {
   "cell_type": "code",
   "execution_count": 3,
   "metadata": {
    "collapsed": false
   },
   "outputs": [
    {
     "data": {
      "text/plain": [
       "'C:\\\\Users\\\\HOME4400\\\\PycharmProjects\\\\AutomateTheBoringStuff\\\\Chapter8_ReadingAndWritingFiles'"
      ]
     },
     "execution_count": 3,
     "metadata": {},
     "output_type": "execute_result"
    }
   ],
   "source": [
    "import os\n",
    "os.getcwd()"
   ]
  },
  {
   "cell_type": "code",
   "execution_count": 5,
   "metadata": {
    "collapsed": false
   },
   "outputs": [
    {
     "data": {
      "text/plain": [
       "83"
      ]
     },
     "execution_count": 5,
     "metadata": {},
     "output_type": "execute_result"
    }
   ],
   "source": [
    "fileObj = open('myCats.py', 'w')\n",
    "fileObj.write('cats = ' + pprint.pformat(cats) + '\\n')"
   ]
  },
  {
   "cell_type": "code",
   "execution_count": 6,
   "metadata": {
    "collapsed": true
   },
   "outputs": [],
   "source": [
    "fileObj.close()"
   ]
  },
  {
   "cell_type": "code",
   "execution_count": 7,
   "metadata": {
    "collapsed": false
   },
   "outputs": [
    {
     "data": {
      "text/plain": [
       "[{'desc': 'chubby', 'name': 'Zophie'}, {'desc': 'fluffy', 'name': 'Pooka'}]"
      ]
     },
     "execution_count": 7,
     "metadata": {},
     "output_type": "execute_result"
    }
   ],
   "source": [
    "import myCats\n",
    "myCats.cats"
   ]
  },
  {
   "cell_type": "code",
   "execution_count": 8,
   "metadata": {
    "collapsed": false
   },
   "outputs": [
    {
     "data": {
      "text/plain": [
       "{'desc': 'chubby', 'name': 'Zophie'}"
      ]
     },
     "execution_count": 8,
     "metadata": {},
     "output_type": "execute_result"
    }
   ],
   "source": [
    "myCats.cats[0]"
   ]
  },
  {
   "cell_type": "code",
   "execution_count": 9,
   "metadata": {
    "collapsed": false
   },
   "outputs": [
    {
     "data": {
      "text/plain": [
       "'Zophie'"
      ]
     },
     "execution_count": 9,
     "metadata": {},
     "output_type": "execute_result"
    }
   ],
   "source": [
    "myCats.cats[0]['name']"
   ]
  },
  {
   "cell_type": "markdown",
   "metadata": {},
   "source": [
    "## End of chapter 8 shellwork"
   ]
  },
  {
   "cell_type": "code",
   "execution_count": null,
   "metadata": {
    "collapsed": true
   },
   "outputs": [],
   "source": []
  }
 ],
 "metadata": {
  "anaconda-cloud": {},
  "kernelspec": {
   "display_name": "Python [conda root]",
   "language": "python",
   "name": "conda-root-py"
  },
  "language_info": {
   "codemirror_mode": {
    "name": "ipython",
    "version": 3
   },
   "file_extension": ".py",
   "mimetype": "text/x-python",
   "name": "python",
   "nbconvert_exporter": "python",
   "pygments_lexer": "ipython3",
   "version": "3.5.2"
  }
 },
 "nbformat": 4,
 "nbformat_minor": 0
}
